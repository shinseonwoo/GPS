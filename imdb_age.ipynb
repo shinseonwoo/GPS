{
 "cells": [
  {
   "cell_type": "code",
   "execution_count": 1,
   "metadata": {},
   "outputs": [],
   "source": [
    "from urllib.request import urlopen\n",
    "from bs4 import BeautifulSoup\n",
    "import urllib\n",
    "from urllib import parse\n",
    "import time\n",
    "import openpyxl\n",
    "import requests\n",
    "\n",
    "from selenium.common.exceptions import NoSuchElementException\n",
    "from selenium import webdriver\n",
    "from selenium.webdriver.common.keys import Keys\n",
    "import random, time\n",
    "from IPython.display import display"
   ]
  },
  {
   "cell_type": "code",
   "execution_count": 12,
   "metadata": {},
   "outputs": [],
   "source": [
    "def get_age(classname):\n",
    "    product_reviews=[]\n",
    "    reviews=driver.find_elements_by_class_name(classname)[::]\n",
    "    for element in reviews:\n",
    "        product_reviews.append(element.text)\n",
    "    try:\n",
    "        result=product_reviews[0].split('|')\n",
    "    except IndexError:\n",
    "        result='IndexError'\n",
    "    return result"
   ]
  },
  {
   "cell_type": "code",
   "execution_count": 3,
   "metadata": {},
   "outputs": [],
   "source": [
    "def NextPage():\n",
    "    try:\n",
    "        driver.find_element_by_xpath('//*[@id=\"main\"]/div/div[2]/table/tbody/tr[1]/td[2]/a').click()\n",
    "    except NoSuchElementException:\n",
    "        pass"
   ]
  },
  {
   "cell_type": "code",
   "execution_count": 4,
   "metadata": {},
   "outputs": [
    {
     "name": "stdout",
     "output_type": "stream",
     "text": [
      "['House of Cards', 'Hemlock Grove', 'Orange Is the New Black', 'Marco Polo', 'Bloodline']\n"
     ]
    }
   ],
   "source": [
    "import numpy as np\n",
    "import pandas as pd\n",
    "\n",
    "data =pd.read_csv('D:/python/Netflix/netflix_originals_합본_2.csv',encoding='ANSI')\n",
    "title=data.Title.values.tolist()\n",
    "print(title[:5])"
   ]
  },
  {
   "cell_type": "code",
   "execution_count": 5,
   "metadata": {},
   "outputs": [
    {
     "data": {
      "text/plain": [
       "['House+of+Cards',\n",
       " 'Hemlock+Grove',\n",
       " 'Orange+Is+the+New+Black',\n",
       " 'Marco+Polo',\n",
       " 'Bloodline']"
      ]
     },
     "execution_count": 5,
     "metadata": {},
     "output_type": "execute_result"
    }
   ],
   "source": [
    "title_path = []\n",
    "for i in title:\n",
    "    split_title = i.split()\n",
    "    sum_title = \"+\".join(split_title)\n",
    "    title_path.append(sum_title)\n",
    "title_path[:5]"
   ]
  },
  {
   "cell_type": "code",
   "execution_count": 6,
   "metadata": {},
   "outputs": [
    {
     "data": {
      "text/plain": [
       "['House+of+Cards',\n",
       " 'Hemlock+Grove',\n",
       " 'Orange+Is+the+New+Black',\n",
       " 'Marco+Polo',\n",
       " 'Bloodline']"
      ]
     },
     "execution_count": 6,
     "metadata": {},
     "output_type": "execute_result"
    }
   ],
   "source": [
    "title_path[:5]"
   ]
  },
  {
   "cell_type": "code",
   "execution_count": 7,
   "metadata": {},
   "outputs": [],
   "source": [
    "url_list=[]\n",
    "for i in title_path:\n",
    "    url=\"https://www.imdb.com/find?q=\"+str(i)+ \"&ref_=nv_sr_sm\"\n",
    "    url_list.append(url)"
   ]
  },
  {
   "cell_type": "code",
   "execution_count": 8,
   "metadata": {},
   "outputs": [
    {
     "data": {
      "text/plain": [
       "['https://www.imdb.com/find?q=House+of+Cards&ref_=nv_sr_sm',\n",
       " 'https://www.imdb.com/find?q=Hemlock+Grove&ref_=nv_sr_sm',\n",
       " 'https://www.imdb.com/find?q=Orange+Is+the+New+Black&ref_=nv_sr_sm',\n",
       " 'https://www.imdb.com/find?q=Marco+Polo&ref_=nv_sr_sm',\n",
       " 'https://www.imdb.com/find?q=Bloodline&ref_=nv_sr_sm']"
      ]
     },
     "execution_count": 8,
     "metadata": {},
     "output_type": "execute_result"
    }
   ],
   "source": [
    "url_list[:5]"
   ]
  },
  {
   "cell_type": "code",
   "execution_count": 9,
   "metadata": {},
   "outputs": [
    {
     "data": {
      "text/plain": [
       "'IndexError'"
      ]
     },
     "execution_count": 9,
     "metadata": {},
     "output_type": "execute_result"
    }
   ],
   "source": [
    "options = webdriver.ChromeOptions()\n",
    "options.headless = True # webdriver.ChromeOptions.headless = True (크롬 백그라운드)\n",
    "options.add_argument('window-size=1920x1080')\n",
    "\n",
    "driver = webdriver.Chrome(r'C:\\Users\\seonwoo\\Anaconda\\chromedriver.exe', options=options)\n",
    "url_list[::]\n",
    "get_age('subtext')"
   ]
  },
  {
   "cell_type": "code",
   "execution_count": 24,
   "metadata": {
    "scrolled": true
   },
   "outputs": [
    {
     "data": {
      "text/plain": [
       "[['18 ', ' 48min ', ' Documentary, Biography, Drama ', ' TV Series (2016– )'],\n",
       " ['15 ', ' 46min ', ' Documentary, Crime ', ' TV Series (2017– )'],\n",
       " ['18 ', ' 1h ', ' Documentary, Biography ', ' TV Series (2017)'],\n",
       " ['37min ', ' Documentary, Reality-TV ', ' TV Series (2017)'],\n",
       " ['Documentary ', ' TV Mini-Series (2017)']]"
      ]
     },
     "execution_count": 24,
     "metadata": {},
     "output_type": "execute_result"
    }
   ],
   "source": [
    "page = url_list[100:200]    #값 바꿀것\n",
    "new_data = []\n",
    "\n",
    "for i in page:\n",
    "    driver.implicitly_wait(1)\n",
    "    driver.get(i)\n",
    "    driver.implicitly_wait(1)\n",
    "    NextPage()\n",
    "    driver.implicitly_wait(2)\n",
    "    datalist = get_age('subtext')\n",
    "    new_data.append(datalist)\n",
    "    #driver.get_screenshot_as_file(str(j) + '_screen.png')\n",
    "    #j += 1\n",
    "new_data[:5]"
   ]
  },
  {
   "cell_type": "code",
   "execution_count": 25,
   "metadata": {},
   "outputs": [
    {
     "data": {
      "text/plain": [
       "['18 ', ' 48min ', ' Documentary, Biography, Drama ', ' TV Series (2016– )']"
      ]
     },
     "execution_count": 25,
     "metadata": {},
     "output_type": "execute_result"
    }
   ],
   "source": [
    "new_data[0]"
   ]
  },
  {
   "cell_type": "code",
   "execution_count": 26,
   "metadata": {
    "scrolled": true
   },
   "outputs": [
    {
     "data": {
      "text/html": [
       "<div>\n",
       "<style scoped>\n",
       "    .dataframe tbody tr th:only-of-type {\n",
       "        vertical-align: middle;\n",
       "    }\n",
       "\n",
       "    .dataframe tbody tr th {\n",
       "        vertical-align: top;\n",
       "    }\n",
       "\n",
       "    .dataframe thead th {\n",
       "        text-align: right;\n",
       "    }\n",
       "</style>\n",
       "<table border=\"1\" class=\"dataframe\">\n",
       "  <thead>\n",
       "    <tr style=\"text-align: right;\">\n",
       "      <th></th>\n",
       "      <th>information</th>\n",
       "    </tr>\n",
       "  </thead>\n",
       "  <tbody>\n",
       "    <tr>\n",
       "      <th>0</th>\n",
       "      <td>[18 ,  48min ,  Documentary, Biography, Drama ...</td>\n",
       "    </tr>\n",
       "    <tr>\n",
       "      <th>1</th>\n",
       "      <td>[15 ,  46min ,  Documentary, Crime ,  TV Serie...</td>\n",
       "    </tr>\n",
       "    <tr>\n",
       "      <th>2</th>\n",
       "      <td>[18 ,  1h ,  Documentary, Biography ,  TV Seri...</td>\n",
       "    </tr>\n",
       "    <tr>\n",
       "      <th>3</th>\n",
       "      <td>[37min ,  Documentary, Reality-TV ,  TV Series...</td>\n",
       "    </tr>\n",
       "    <tr>\n",
       "      <th>4</th>\n",
       "      <td>[Documentary ,  TV Mini-Series (2017)]</td>\n",
       "    </tr>\n",
       "    <tr>\n",
       "      <th>...</th>\n",
       "      <td>...</td>\n",
       "    </tr>\n",
       "    <tr>\n",
       "      <th>95</th>\n",
       "      <td>[18 ,  1h 5min ,  Comedy, Drama ,  14 February...</td>\n",
       "    </tr>\n",
       "    <tr>\n",
       "      <th>96</th>\n",
       "      <td>[18 ,  1h 33min ,  Comedy, Crime, Drama ,  24 ...</td>\n",
       "    </tr>\n",
       "    <tr>\n",
       "      <th>97</th>\n",
       "      <td>[18 ,  1h 36min ,  Drama ,  10 March 2017 (USA)]</td>\n",
       "    </tr>\n",
       "    <tr>\n",
       "      <th>98</th>\n",
       "      <td>IndexError</td>\n",
       "    </tr>\n",
       "    <tr>\n",
       "      <th>99</th>\n",
       "      <td>[15 ,  1h 31min ,  Biography, Drama, History ,...</td>\n",
       "    </tr>\n",
       "  </tbody>\n",
       "</table>\n",
       "<p>100 rows × 1 columns</p>\n",
       "</div>"
      ],
      "text/plain": [
       "                                          information\n",
       "0   [18 ,  48min ,  Documentary, Biography, Drama ...\n",
       "1   [15 ,  46min ,  Documentary, Crime ,  TV Serie...\n",
       "2   [18 ,  1h ,  Documentary, Biography ,  TV Seri...\n",
       "3   [37min ,  Documentary, Reality-TV ,  TV Series...\n",
       "4              [Documentary ,  TV Mini-Series (2017)]\n",
       "..                                                ...\n",
       "95  [18 ,  1h 5min ,  Comedy, Drama ,  14 February...\n",
       "96  [18 ,  1h 33min ,  Comedy, Crime, Drama ,  24 ...\n",
       "97   [18 ,  1h 36min ,  Drama ,  10 March 2017 (USA)]\n",
       "98                                         IndexError\n",
       "99  [15 ,  1h 31min ,  Biography, Drama, History ,...\n",
       "\n",
       "[100 rows x 1 columns]"
      ]
     },
     "execution_count": 26,
     "metadata": {},
     "output_type": "execute_result"
    }
   ],
   "source": [
    "page = url_list[100:200]  \n",
    "information = [new_data[i] for i in range(len(page))]\n",
    "my_dict = {\"information\": information}\n",
    "total_data = pd.DataFrame(my_dict)\n",
    "total_data"
   ]
  },
  {
   "cell_type": "code",
   "execution_count": 27,
   "metadata": {},
   "outputs": [
    {
     "data": {
      "text/html": [
       "<div>\n",
       "<style scoped>\n",
       "    .dataframe tbody tr th:only-of-type {\n",
       "        vertical-align: middle;\n",
       "    }\n",
       "\n",
       "    .dataframe tbody tr th {\n",
       "        vertical-align: top;\n",
       "    }\n",
       "\n",
       "    .dataframe thead th {\n",
       "        text-align: right;\n",
       "    }\n",
       "</style>\n",
       "<table border=\"1\" class=\"dataframe\">\n",
       "  <thead>\n",
       "    <tr style=\"text-align: right;\">\n",
       "      <th></th>\n",
       "      <th>information</th>\n",
       "    </tr>\n",
       "  </thead>\n",
       "  <tbody>\n",
       "    <tr>\n",
       "      <th>0</th>\n",
       "      <td>[18 ,  48min ,  Documentary, Biography, Drama ...</td>\n",
       "    </tr>\n",
       "    <tr>\n",
       "      <th>1</th>\n",
       "      <td>[15 ,  46min ,  Documentary, Crime ,  TV Serie...</td>\n",
       "    </tr>\n",
       "    <tr>\n",
       "      <th>2</th>\n",
       "      <td>[18 ,  1h ,  Documentary, Biography ,  TV Seri...</td>\n",
       "    </tr>\n",
       "    <tr>\n",
       "      <th>3</th>\n",
       "      <td>[37min ,  Documentary, Reality-TV ,  TV Series...</td>\n",
       "    </tr>\n",
       "    <tr>\n",
       "      <th>4</th>\n",
       "      <td>[Documentary ,  TV Mini-Series (2017)]</td>\n",
       "    </tr>\n",
       "    <tr>\n",
       "      <th>...</th>\n",
       "      <td>...</td>\n",
       "    </tr>\n",
       "    <tr>\n",
       "      <th>95</th>\n",
       "      <td>[18 ,  1h 5min ,  Comedy, Drama ,  14 February...</td>\n",
       "    </tr>\n",
       "    <tr>\n",
       "      <th>96</th>\n",
       "      <td>[18 ,  1h 33min ,  Comedy, Crime, Drama ,  24 ...</td>\n",
       "    </tr>\n",
       "    <tr>\n",
       "      <th>97</th>\n",
       "      <td>[18 ,  1h 36min ,  Drama ,  10 March 2017 (USA)]</td>\n",
       "    </tr>\n",
       "    <tr>\n",
       "      <th>98</th>\n",
       "      <td>IndexError</td>\n",
       "    </tr>\n",
       "    <tr>\n",
       "      <th>99</th>\n",
       "      <td>[15 ,  1h 31min ,  Biography, Drama, History ,...</td>\n",
       "    </tr>\n",
       "  </tbody>\n",
       "</table>\n",
       "<p>100 rows × 1 columns</p>\n",
       "</div>"
      ],
      "text/plain": [
       "                                          information\n",
       "0   [18 ,  48min ,  Documentary, Biography, Drama ...\n",
       "1   [15 ,  46min ,  Documentary, Crime ,  TV Serie...\n",
       "2   [18 ,  1h ,  Documentary, Biography ,  TV Seri...\n",
       "3   [37min ,  Documentary, Reality-TV ,  TV Series...\n",
       "4              [Documentary ,  TV Mini-Series (2017)]\n",
       "..                                                ...\n",
       "95  [18 ,  1h 5min ,  Comedy, Drama ,  14 February...\n",
       "96  [18 ,  1h 33min ,  Comedy, Crime, Drama ,  24 ...\n",
       "97   [18 ,  1h 36min ,  Drama ,  10 March 2017 (USA)]\n",
       "98                                         IndexError\n",
       "99  [15 ,  1h 31min ,  Biography, Drama, History ,...\n",
       "\n",
       "[100 rows x 1 columns]"
      ]
     },
     "execution_count": 27,
     "metadata": {},
     "output_type": "execute_result"
    }
   ],
   "source": [
    "total_data"
   ]
  },
  {
   "cell_type": "code",
   "execution_count": 28,
   "metadata": {},
   "outputs": [],
   "source": [
    "excel_name='netflix_origlnal_information 200번까지.xlsx'\n"
   ]
  },
  {
   "cell_type": "code",
   "execution_count": 29,
   "metadata": {},
   "outputs": [],
   "source": [
    "total_data.to_excel(excel_name,encoding='utf-8')"
   ]
  },
  {
   "cell_type": "code",
   "execution_count": null,
   "metadata": {},
   "outputs": [],
   "source": []
  }
 ],
 "metadata": {
  "kernelspec": {
   "display_name": "Python 3",
   "language": "python",
   "name": "python3"
  },
  "language_info": {
   "codemirror_mode": {
    "name": "ipython",
    "version": 3
   },
   "file_extension": ".py",
   "mimetype": "text/x-python",
   "name": "python",
   "nbconvert_exporter": "python",
   "pygments_lexer": "ipython3",
   "version": "3.8.5"
  }
 },
 "nbformat": 4,
 "nbformat_minor": 4
}
